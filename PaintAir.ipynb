{
  "nbformat": 4,
  "nbformat_minor": 5,
  "metadata": {
    "kernelspec": {
      "display_name": "Python 3",
      "language": "python",
      "name": "python3"
    },
    "language_info": {
      "codemirror_mode": {
        "name": "ipython",
        "version": 3
      },
      "file_extension": ".py",
      "mimetype": "text/x-python",
      "name": "python",
      "nbconvert_exporter": "python",
      "pygments_lexer": "ipython3",
      "version": "3.8.8"
    },
    "colab": {
      "name": "PaintAir.ipynb",
      "provenance": [],
      "include_colab_link": true
    }
  },
  "cells": [
    {
      "cell_type": "markdown",
      "metadata": {
        "id": "view-in-github",
        "colab_type": "text"
      },
      "source": [
        "<a href=\"https://colab.research.google.com/github/sauravvsonu/PaintAir/blob/main/PaintAir.ipynb\" target=\"_parent\"><img src=\"https://colab.research.google.com/assets/colab-badge.svg\" alt=\"Open In Colab\"/></a>"
      ]
    },
    {
      "cell_type": "code",
      "metadata": {
        "id": "cc3faec9"
      },
      "source": [
        "#import Required Library  \n",
        "import numpy as np\n",
        "import cv2\n",
        "from collections import deque"
      ],
      "id": "cc3faec9",
      "execution_count": null,
      "outputs": []
    },
    {
      "cell_type": "code",
      "metadata": {
        "id": "115e01db"
      },
      "source": [
        "#default called trackbar function \n",
        "def setValues(x):\n",
        "   print(\"\")"
      ],
      "id": "115e01db",
      "execution_count": null,
      "outputs": []
    },
    {
      "cell_type": "code",
      "metadata": {
        "id": "51d3db5d"
      },
      "source": [
        "# Creating the trackbars needed for adjusting the marker colour\n",
        "cv2.namedWindow(\"Color detectors\")\n",
        "cv2.createTrackbar(\"Upper Hue\", \"Color detectors\", 70, 180,setValues)\n",
        "cv2.createTrackbar(\"Upper Saturation\", \"Color detectors\", 200, 255,setValues)\n",
        "cv2.createTrackbar(\"Upper Value\", \"Color detectors\", 255, 255,setValues)\n",
        "cv2.createTrackbar(\"Lower Hue\", \"Color detectors\", 51, 180,setValues)\n",
        "cv2.createTrackbar(\"Lower Saturation\", \"Color detectors\", 60, 255,setValues)\n",
        "cv2.createTrackbar(\"Lower Value\", \"Color detectors\", 50, 255,setValues)"
      ],
      "id": "51d3db5d",
      "execution_count": null,
      "outputs": []
    },
    {
      "cell_type": "code",
      "metadata": {
        "id": "76c71bd8"
      },
      "source": [
        "# Giving different arrays to handle colour points of different colour\n",
        "bpoints = [deque(maxlen=1024)]\n",
        "gpoints = [deque(maxlen=1024)]\n",
        "rpoints = [deque(maxlen=1024)]\n",
        "ypoints = [deque(maxlen=1024)]"
      ],
      "id": "76c71bd8",
      "execution_count": null,
      "outputs": []
    },
    {
      "cell_type": "code",
      "metadata": {
        "id": "74a509bc"
      },
      "source": [
        "# These indexes will be used to mark the points in particular arrays of specific colour\n",
        "blue_index = 0\n",
        "green_index = 0\n",
        "red_index = 0\n",
        "yellow_index = 0"
      ],
      "id": "74a509bc",
      "execution_count": null,
      "outputs": []
    },
    {
      "cell_type": "code",
      "metadata": {
        "id": "153e1b03"
      },
      "source": [
        "#The kernel to be used for dilation purpose \n",
        "kernel = np.ones((5,5),np.uint8)\n",
        "\n",
        "colors = [(255, 0, 0), (0, 255, 0), (0, 0, 255), (0, 255, 255)]\n",
        "colorIndex = 0"
      ],
      "id": "153e1b03",
      "execution_count": null,
      "outputs": []
    },
    {
      "cell_type": "code",
      "metadata": {
        "id": "f5c8cedf"
      },
      "source": [
        "# Here is code for Canvas setup\n",
        "paintWindow = np.zeros((471,636,3)) + 255\n",
        "paintWindow = cv2.rectangle(paintWindow, (40,1), (140,65), (0,0,0), 2)\n",
        "paintWindow = cv2.rectangle(paintWindow, (160,1), (255,65), colors[0], -1)\n",
        "paintWindow = cv2.rectangle(paintWindow, (275,1), (370,65), colors[1], -1)\n",
        "paintWindow = cv2.rectangle(paintWindow, (390,1), (485,65), colors[2], -1)\n",
        "paintWindow = cv2.rectangle(paintWindow, (505,1), (600,65), colors[3], -1)"
      ],
      "id": "f5c8cedf",
      "execution_count": null,
      "outputs": []
    },
    {
      "cell_type": "code",
      "metadata": {
        "id": "efc174fd"
      },
      "source": [
        "cv2.putText(paintWindow, \"CLEAR\", (49, 33), cv2.FONT_HERSHEY_SIMPLEX, 0.5, (0, 0, 0), 2, cv2.LINE_AA)\n",
        "cv2.putText(paintWindow, \"BLUE\", (185, 33), cv2.FONT_HERSHEY_SIMPLEX, 0.5, (255, 255, 255), 2, cv2.LINE_AA)\n",
        "cv2.putText(paintWindow, \"GREEN\", (298, 33), cv2.FONT_HERSHEY_SIMPLEX, 0.5, (255, 255, 255), 2, cv2.LINE_AA)\n",
        "cv2.putText(paintWindow, \"RED\", (420, 33), cv2.FONT_HERSHEY_SIMPLEX, 0.5, (255, 255, 255), 2, cv2.LINE_AA)\n",
        "cv2.putText(paintWindow, \"YELLOW\", (520, 33), cv2.FONT_HERSHEY_SIMPLEX, 0.5, (150,150,150), 2, cv2.LINE_AA)\n",
        "cv2.namedWindow('Paint', cv2.WINDOW_AUTOSIZE)"
      ],
      "id": "efc174fd",
      "execution_count": null,
      "outputs": []
    },
    {
      "cell_type": "code",
      "metadata": {
        "id": "6b775240"
      },
      "source": [
        "# Loading the default webcam of PC.\n",
        "cap = cv2.VideoCapture(0)"
      ],
      "id": "6b775240",
      "execution_count": null,
      "outputs": []
    },
    {
      "cell_type": "code",
      "metadata": {
        "id": "c4bbf801"
      },
      "source": [
        "def print_hsv(hsv):\n",
        "   print(hsv[275])"
      ],
      "id": "c4bbf801",
      "execution_count": null,
      "outputs": []
    },
    {
      "cell_type": "code",
      "metadata": {
        "id": "bbd6a209"
      },
      "source": [
        "   \n",
        "# Keep looping\n",
        "while True:\n",
        "    # Reading the frame from the camera\n",
        "    ret, frame = cap.read()\n",
        "    #Flipping the frame to see same side of yours\n",
        "    frame = cv2.flip(frame, 1)\n",
        "    hsv = cv2.cvtColor(frame, cv2.COLOR_BGR2HSV)\n",
        "\n",
        "\n",
        "    u_hue = cv2.getTrackbarPos(\"Upper Hue\", \"Color detectors\")\n",
        "    u_saturation = cv2.getTrackbarPos(\"Upper Saturation\", \"Color detectors\")\n",
        "    u_value = cv2.getTrackbarPos(\"Upper Value\", \"Color detectors\")\n",
        "    l_hue = cv2.getTrackbarPos(\"Lower Hue\", \"Color detectors\")\n",
        "    l_saturation = cv2.getTrackbarPos(\"Lower Saturation\", \"Color detectors\")\n",
        "    l_value = cv2.getTrackbarPos(\"Lower Value\", \"Color detectors\")\n",
        "    Upper_hsv = np.array([u_hue,u_saturation,u_value])\n",
        "    Lower_hsv = np.array([l_hue,l_saturation,l_value])\n",
        "\n",
        "\n",
        "    # Adding the colour buttons to the live frame for colour access\n",
        "    frame = cv2.rectangle(frame, (40,1), (140,65), (122,122,122), -1)\n",
        "    frame = cv2.rectangle(frame, (160,1), (255,65), colors[0], -1)\n",
        "    frame = cv2.rectangle(frame, (275,1), (370,65), colors[1], -1)\n",
        "    frame = cv2.rectangle(frame, (390,1), (485,65), colors[2], -1)\n",
        "    frame = cv2.rectangle(frame, (505,1), (600,65), colors[3], -1)\n",
        "    cv2.putText(frame, \"CLEAR ALL\", (49, 33), cv2.FONT_HERSHEY_SIMPLEX, 0.5, (255, 255, 255), 2, cv2.LINE_AA)\n",
        "    cv2.putText(frame, \"BLUE\", (185, 33), cv2.FONT_HERSHEY_SIMPLEX, 0.5, (255, 255, 255), 2, cv2.LINE_AA)\n",
        "    cv2.putText(frame, \"GREEN\", (298, 33), cv2.FONT_HERSHEY_SIMPLEX, 0.5, (255, 255, 255), 2, cv2.LINE_AA)\n",
        "    cv2.putText(frame, \"RED\", (420, 33), cv2.FONT_HERSHEY_SIMPLEX, 0.5, (255, 255, 255), 2, cv2.LINE_AA)\n",
        "    cv2.putText(frame, \"YELLOW\", (520, 33), cv2.FONT_HERSHEY_SIMPLEX, 0.5, (150,150,150), 2, cv2.LINE_AA)\n",
        "\n",
        "##    know your hsv\n",
        "    frame = cv2.circle(frame, (380, 100), 20, (0, 255, 255), 5)\n",
        "\n",
        "    \n",
        "    \n",
        "    # Identifying the pointer by making its mask\n",
        "    Mask = cv2.inRange(hsv, Lower_hsv, Upper_hsv)\n",
        "    Mask = cv2.erode(Mask, kernel, iterations=1)\n",
        "    Mask = cv2.morphologyEx(Mask, cv2.MORPH_OPEN, kernel)\n",
        "    Mask = cv2.dilate(Mask, kernel, iterations=1)\n",
        "\n",
        "    # Find contours for the pointer after idetifying it\n",
        "    cnts,_ = cv2.findContours(Mask.copy(), cv2.RETR_EXTERNAL,\n",
        "    \tcv2.CHAIN_APPROX_SIMPLE)\n",
        "    center = None\n",
        "\n",
        "    # Ifthe contours are formed\n",
        "    if len(cnts) > 0:\n",
        "    \t# sorting the contours to find biggest \n",
        "        cnt = sorted(cnts, key = cv2.contourArea, reverse = True)[0]\n",
        "        # Get the radius of the enclosing circle around the found contour\n",
        "        ((x, y), radius) = cv2.minEnclosingCircle(cnt)\n",
        "        # Draw the circle around the contour\n",
        "        cv2.circle(frame, (int(x), int(y)), int(radius), (0, 255, 255), 2)\n",
        "        # Calculating the center of the detected contour\n",
        "        M = cv2.moments(cnt)\n",
        "        center = (int(M['m10'] / M['m00']), int(M['m01'] / M['m00']))\n",
        "\n",
        "        # Now checking if the user wants to click on any button above the screen \n",
        "        if center[1] <= 65:\n",
        "            if 40 <= center[0] <= 140: # Clear Button\n",
        "                bpoints = [deque(maxlen=512)]\n",
        "                gpoints = [deque(maxlen=512)]\n",
        "                rpoints = [deque(maxlen=512)]\n",
        "                ypoints = [deque(maxlen=512)]\n",
        "\n",
        "                blue_index = 0\n",
        "                green_index = 0\n",
        "                red_index = 0\n",
        "                yellow_index = 0\n",
        "\n",
        "                paintWindow[67:,:,:] = 255\n",
        "            elif 160 <= center[0] <= 255:\n",
        "                    colorIndex = 0 # Blue\n",
        "            elif 275 <= center[0] <= 370:\n",
        "                    colorIndex = 1 # Green\n",
        "                    print_hsv(hsv[center[0]])\n",
        "            elif 390 <= center[0] <= 485:\n",
        "                    colorIndex = 2 # Red\n",
        "            elif 505 <= center[0] <= 600:\n",
        "                    colorIndex = 3 # Yellow\n",
        "        else :\n",
        "            if colorIndex == 0:\n",
        "                bpoints[blue_index].appendleft(center)\n",
        "            elif colorIndex == 1:\n",
        "                gpoints[green_index].appendleft(center)\n",
        "            elif colorIndex == 2:\n",
        "                rpoints[red_index].appendleft(center)\n",
        "            elif colorIndex == 3:\n",
        "                ypoints[yellow_index].appendleft(center)\n",
        "    # Append the next deques when nothing is detected to avois messing up\n",
        "    else:\n",
        "        bpoints.append(deque(maxlen=512))\n",
        "        blue_index += 1\n",
        "        gpoints.append(deque(maxlen=512))\n",
        "        green_index += 1\n",
        "        rpoints.append(deque(maxlen=512))\n",
        "        red_index += 1\n",
        "        ypoints.append(deque(maxlen=512))\n",
        "        yellow_index += 1\n",
        "\n",
        "    # Draw lines of all the colors on the canvas and frame \n",
        "    points = [bpoints, gpoints, rpoints, ypoints]\n",
        "    for i in range(len(points)):\n",
        "        for j in range(len(points[i])):\n",
        "            for k in range(1, len(points[i][j])):\n",
        "                if points[i][j][k - 1] is None or points[i][j][k] is None:\n",
        "                    continue\n",
        "                cv2.line(frame, points[i][j][k - 1], points[i][j][k], colors[i], 2)\n",
        "                cv2.line(paintWindow, points[i][j][k - 1], points[i][j][k], colors[i], 7)\n",
        "\n",
        "    # Show all the windows\n",
        "    cv2.imshow(\"Tracking\", frame)\n",
        "    cv2.imshow(\"Paint\", paintWindow)\n",
        "    cv2.imshow(\"mask\",Mask)\n",
        "\n",
        "\t# If the 'q' key is pressed then stop the application \n",
        "    if cv2.waitKey(1) & 0xFF == ord(\"q\"):\n",
        "        break"
      ],
      "id": "bbd6a209",
      "execution_count": null,
      "outputs": []
    },
    {
      "cell_type": "code",
      "metadata": {
        "id": "1592e291"
      },
      "source": [
        "# Release the camera and all resources\n",
        "cap.release()\n",
        "cv2.destroyAllWindows()"
      ],
      "id": "1592e291",
      "execution_count": null,
      "outputs": []
    },
    {
      "cell_type": "code",
      "metadata": {
        "id": "lv2SWxZAl0fr"
      },
      "source": [
        ""
      ],
      "id": "lv2SWxZAl0fr",
      "execution_count": null,
      "outputs": []
    }
  ]
}